{
  "cells": [
    {
      "cell_type": "code",
      "source": [],
      "metadata": {
        "id": "k6e9ZmWq0NOz"
      },
      "id": "k6e9ZmWq0NOz",
      "execution_count": null,
      "outputs": []
    },
    {
      "cell_type": "markdown",
      "source": [
        "# **LOAD DATASET**"
      ],
      "metadata": {
        "id": "WOt5TipY0Mc4"
      },
      "id": "WOt5TipY0Mc4"
    },
    {
      "cell_type": "code",
      "execution_count": null,
      "id": "a4de4bcd-264b-4043-a34d-90b412974428",
      "metadata": {
        "id": "a4de4bcd-264b-4043-a34d-90b412974428"
      },
      "outputs": [],
      "source": [
        "import pandas as pd\n",
        "import numpy as np"
      ]
    },
    {
      "cell_type": "code",
      "execution_count": null,
      "id": "c064d7bc-4cb9-4a93-aeb6-e05e0e175a93",
      "metadata": {
        "id": "c064d7bc-4cb9-4a93-aeb6-e05e0e175a93",
        "outputId": "f0660979-4777-4531-b2c0-e96da398c24b"
      },
      "outputs": [
        {
          "data": {
            "text/html": [
              "<div>\n",
              "<style scoped>\n",
              "    .dataframe tbody tr th:only-of-type {\n",
              "        vertical-align: middle;\n",
              "    }\n",
              "\n",
              "    .dataframe tbody tr th {\n",
              "        vertical-align: top;\n",
              "    }\n",
              "\n",
              "    .dataframe thead th {\n",
              "        text-align: right;\n",
              "    }\n",
              "</style>\n",
              "<table border=\"1\" class=\"dataframe\">\n",
              "  <thead>\n",
              "    <tr style=\"text-align: right;\">\n",
              "      <th></th>\n",
              "      <th>Sensor_1</th>\n",
              "      <th>Sensor_2</th>\n",
              "      <th>Sensor_3</th>\n",
              "      <th>Sensor_4</th>\n",
              "      <th>Sensor_5</th>\n",
              "      <th>Sensor_6</th>\n",
              "      <th>Fault</th>\n",
              "    </tr>\n",
              "  </thead>\n",
              "  <tbody>\n",
              "    <tr>\n",
              "      <th>0</th>\n",
              "      <td>0.122027</td>\n",
              "      <td>-0.016939</td>\n",
              "      <td>0.818146</td>\n",
              "      <td>135.677362</td>\n",
              "      <td>8.662114</td>\n",
              "      <td>2.070120</td>\n",
              "      <td>0</td>\n",
              "    </tr>\n",
              "    <tr>\n",
              "      <th>1</th>\n",
              "      <td>0.487063</td>\n",
              "      <td>-0.626133</td>\n",
              "      <td>0.914338</td>\n",
              "      <td>51.464854</td>\n",
              "      <td>3.294254</td>\n",
              "      <td>2.898432</td>\n",
              "      <td>0</td>\n",
              "    </tr>\n",
              "    <tr>\n",
              "      <th>2</th>\n",
              "      <td>0.338150</td>\n",
              "      <td>-0.363518</td>\n",
              "      <td>0.977012</td>\n",
              "      <td>139.923704</td>\n",
              "      <td>10.460065</td>\n",
              "      <td>0.081206</td>\n",
              "      <td>0</td>\n",
              "    </tr>\n",
              "    <tr>\n",
              "      <th>3</th>\n",
              "      <td>0.142983</td>\n",
              "      <td>0.298176</td>\n",
              "      <td>0.058892</td>\n",
              "      <td>141.866145</td>\n",
              "      <td>NaN</td>\n",
              "      <td>2.112146</td>\n",
              "      <td>0</td>\n",
              "    </tr>\n",
              "    <tr>\n",
              "      <th>4</th>\n",
              "      <td>0.202735</td>\n",
              "      <td>0.794546</td>\n",
              "      <td>1.933633</td>\n",
              "      <td>152.985332</td>\n",
              "      <td>NaN</td>\n",
              "      <td>0.161534</td>\n",
              "      <td>0</td>\n",
              "    </tr>\n",
              "    <tr>\n",
              "      <th>...</th>\n",
              "      <td>...</td>\n",
              "      <td>...</td>\n",
              "      <td>...</td>\n",
              "      <td>...</td>\n",
              "      <td>...</td>\n",
              "      <td>...</td>\n",
              "      <td>...</td>\n",
              "    </tr>\n",
              "    <tr>\n",
              "      <th>2995</th>\n",
              "      <td>0.300350</td>\n",
              "      <td>-0.395539</td>\n",
              "      <td>0.866663</td>\n",
              "      <td>103.185192</td>\n",
              "      <td>7.935620</td>\n",
              "      <td>1.242798</td>\n",
              "      <td>0</td>\n",
              "    </tr>\n",
              "    <tr>\n",
              "      <th>2996</th>\n",
              "      <td>0.200879</td>\n",
              "      <td>-1.351866</td>\n",
              "      <td>0.991153</td>\n",
              "      <td>108.041422</td>\n",
              "      <td>16.155986</td>\n",
              "      <td>0.463627</td>\n",
              "      <td>0</td>\n",
              "    </tr>\n",
              "    <tr>\n",
              "      <th>2997</th>\n",
              "      <td>0.133159</td>\n",
              "      <td>-0.237544</td>\n",
              "      <td>1.164371</td>\n",
              "      <td>132.555909</td>\n",
              "      <td>14.563358</td>\n",
              "      <td>0.392999</td>\n",
              "      <td>0</td>\n",
              "    </tr>\n",
              "    <tr>\n",
              "      <th>2998</th>\n",
              "      <td>0.451046</td>\n",
              "      <td>1.288431</td>\n",
              "      <td>1.412448</td>\n",
              "      <td>58.368586</td>\n",
              "      <td>8.569666</td>\n",
              "      <td>0.718846</td>\n",
              "      <td>0</td>\n",
              "    </tr>\n",
              "    <tr>\n",
              "      <th>2999</th>\n",
              "      <td>0.293183</td>\n",
              "      <td>0.053047</td>\n",
              "      <td>0.282116</td>\n",
              "      <td>114.575456</td>\n",
              "      <td>-0.584138</td>\n",
              "      <td>0.488120</td>\n",
              "      <td>0</td>\n",
              "    </tr>\n",
              "  </tbody>\n",
              "</table>\n",
              "<p>3000 rows × 7 columns</p>\n",
              "</div>"
            ],
            "text/plain": [
              "      Sensor_1  Sensor_2  Sensor_3    Sensor_4   Sensor_5  Sensor_6  Fault\n",
              "0     0.122027 -0.016939  0.818146  135.677362   8.662114  2.070120      0\n",
              "1     0.487063 -0.626133  0.914338   51.464854   3.294254  2.898432      0\n",
              "2     0.338150 -0.363518  0.977012  139.923704  10.460065  0.081206      0\n",
              "3     0.142983  0.298176  0.058892  141.866145        NaN  2.112146      0\n",
              "4     0.202735  0.794546  1.933633  152.985332        NaN  0.161534      0\n",
              "...        ...       ...       ...         ...        ...       ...    ...\n",
              "2995  0.300350 -0.395539  0.866663  103.185192   7.935620  1.242798      0\n",
              "2996  0.200879 -1.351866  0.991153  108.041422  16.155986  0.463627      0\n",
              "2997  0.133159 -0.237544  1.164371  132.555909  14.563358  0.392999      0\n",
              "2998  0.451046  1.288431  1.412448   58.368586   8.569666  0.718846      0\n",
              "2999  0.293183  0.053047  0.282116  114.575456  -0.584138  0.488120      0\n",
              "\n",
              "[3000 rows x 7 columns]"
            ]
          },
          "execution_count": 2,
          "metadata": {},
          "output_type": "execute_result"
        }
      ],
      "source": [
        "df = pd.read_csv(\"ANN_Challenge_Train_v1.csv\")\n",
        "df2 = pd.read_csv(\"ANN_Challenge_Test_with_ID_v1.csv\")\n",
        "df"
      ]
    },
    {
      "cell_type": "code",
      "execution_count": null,
      "id": "ce1277a0-06df-4a81-895d-292d5ecfb9ee",
      "metadata": {
        "id": "ce1277a0-06df-4a81-895d-292d5ecfb9ee",
        "outputId": "c3dd9197-598b-472b-d9cf-fc3ca3e56471"
      },
      "outputs": [
        {
          "name": "stderr",
          "output_type": "stream",
          "text": [
            "C:\\Users\\amey\\AppData\\Local\\Temp\\ipykernel_15688\\3304649023.py:1: FutureWarning: Series.fillna with 'method' is deprecated and will raise in a future version. Use obj.ffill() or obj.bfill() instead.\n",
            "  df['Sensor_5']= df['Sensor_5'].fillna(method='ffill')\n",
            "C:\\Users\\amey\\AppData\\Local\\Temp\\ipykernel_15688\\3304649023.py:2: FutureWarning: Series.fillna with 'method' is deprecated and will raise in a future version. Use obj.ffill() or obj.bfill() instead.\n",
            "  df2[\"Sensor_5\"]= df[\"Sensor_5\"].fillna(method= \"ffill\")\n"
          ]
        }
      ],
      "source": [
        "df['Sensor_5']= df['Sensor_5'].fillna(method='ffill')\n",
        "df2[\"Sensor_5\"]= df[\"Sensor_5\"].fillna(method= \"ffill\")"
      ]
    },
    {
      "cell_type": "markdown",
      "source": [
        "# **SOME FEATURE ENGI**"
      ],
      "metadata": {
        "id": "-FFciAYP0Su6"
      },
      "id": "-FFciAYP0Su6"
    },
    {
      "cell_type": "code",
      "execution_count": null,
      "id": "62e2b116-e840-400d-8dd9-f09eab209bed",
      "metadata": {
        "id": "62e2b116-e840-400d-8dd9-f09eab209bed"
      },
      "outputs": [],
      "source": [
        "from sklearn.decomposition import PCA\n",
        "def feature_engineering(df):\n",
        "    df[\"s1_s3\"] = df[\"Sensor_5\"] * df[\"Sensor_3\"]\n",
        "    df['sensor_min']  = df[['Sensor_1','Sensor_2','Sensor_3','Sensor_4','Sensor_5','Sensor_6']].min(axis=1)\n",
        "    df['s2_times_s6'] = df['Sensor_2'] * df['Sensor_6']\n",
        "    df['sensor_mean'] = df[['Sensor_1','Sensor_2','Sensor_3','Sensor_4','Sensor_5','Sensor_6']].mean(axis=1)\n",
        "\n",
        "\n",
        "\n",
        "\n",
        "\n",
        "\n",
        "\n",
        "\n",
        "    return df\n",
        "\n",
        "\n",
        "df = feature_engineering(df)\n",
        "df2 = feature_engineering(df2)"
      ]
    },
    {
      "cell_type": "code",
      "execution_count": null,
      "id": "38edf159-b0c3-4d0d-98d1-146eda60cf98",
      "metadata": {
        "id": "38edf159-b0c3-4d0d-98d1-146eda60cf98",
        "outputId": "98c06285-b970-4125-af33-0249de6516a7"
      },
      "outputs": [
        {
          "data": {
            "image/png": "[encoded data removed]",
            "text/plain": [
              "<Figure size 1000x800 with 2 Axes>"
            ]
          },
          "metadata": {},
          "output_type": "display_data"
        }
      ],
      "source": [
        "import seaborn as sns\n",
        "import matplotlib.pyplot as plt\n",
        "\n",
        "\n",
        "corr = df.corr()\n",
        "\n",
        "plt.figure(figsize=(10, 8))\n",
        "sns.heatmap(corr, annot=True, fmt=\".2f\", cmap='coolwarm', square=True)\n",
        "plt.title(\"Feature Correlation Heatmap\")\n",
        "plt.show()\n",
        "\n"
      ]
    },
    {
      "cell_type": "code",
      "execution_count": null,
      "id": "d92bd13b-ffa7-4ef2-b260-32a42c14d5b0",
      "metadata": {
        "id": "d92bd13b-ffa7-4ef2-b260-32a42c14d5b0",
        "outputId": "c29431f4-8791-4ca3-adc5-0700fcf69f38"
      },
      "outputs": [
        {
          "ename": "NameError",
          "evalue": "name 'x_train' is not defined",
          "output_type": "error",
          "traceback": [
            "\u001b[31m---------------------------------------------------------------------------\u001b[39m",
            "\u001b[31mNameError\u001b[39m                                 Traceback (most recent call last)",
            "\u001b[36mCell\u001b[39m\u001b[36m \u001b[39m\u001b[32mIn[2]\u001b[39m\u001b[32m, line 4\u001b[39m\n\u001b[32m      1\u001b[39m \u001b[38;5;28;01mfrom\u001b[39;00m\u001b[38;5;250m \u001b[39m\u001b[34;01mxgboost\u001b[39;00m\u001b[38;5;250m \u001b[39m\u001b[38;5;28;01mimport\u001b[39;00m XGBClassifier, plot_importance\n\u001b[32m      3\u001b[39m model = XGBClassifier()\n\u001b[32m----> \u001b[39m\u001b[32m4\u001b[39m model.fit(\u001b[43mx_train\u001b[49m, y_train)\n\u001b[32m      5\u001b[39m plot_importance(model, max_num_features=\u001b[32m16\u001b[39m)\n\u001b[32m      6\u001b[39m plt.show()\n",
            "\u001b[31mNameError\u001b[39m: name 'x_train' is not defined"
          ]
        }
      ],
      "source": [
        "from xgboost import XGBClassifier, plot_importance\n",
        "\n",
        "model = XGBClassifier()\n",
        "model.fit(x_train, y_train)\n",
        "plot_importance(model, max_num_features=16)\n",
        "plt.show()\n"
      ]
    },
    {
      "cell_type": "code",
      "execution_count": null,
      "id": "11c156c8-789f-4574-9e95-13d25472ea58",
      "metadata": {
        "id": "11c156c8-789f-4574-9e95-13d25472ea58"
      },
      "outputs": [],
      "source": [
        "from sklearn.preprocessing import StandardScaler\n",
        "\n",
        "\n",
        "numeric_cols = df.select_dtypes(include=np.number).columns.drop('Fault', errors='ignore')\n",
        "scaler = StandardScaler()\n",
        "df[numeric_cols] = scaler.fit_transform(df[numeric_cols])\n",
        "\n",
        "df2[numeric_cols] = scaler.transform(df2[numeric_cols])"
      ]
    },
    {
      "cell_type": "code",
      "execution_count": null,
      "id": "43ca6c87-5119-454d-9608-de9d30b019ea",
      "metadata": {
        "id": "43ca6c87-5119-454d-9608-de9d30b019ea",
        "outputId": "c1271cd0-587c-427f-b4fe-b277488b1937"
      },
      "outputs": [
        {
          "data": {
            "text/html": [
              "<div>\n",
              "<style scoped>\n",
              "    .dataframe tbody tr th:only-of-type {\n",
              "        vertical-align: middle;\n",
              "    }\n",
              "\n",
              "    .dataframe tbody tr th {\n",
              "        vertical-align: top;\n",
              "    }\n",
              "\n",
              "    .dataframe thead th {\n",
              "        text-align: right;\n",
              "    }\n",
              "</style>\n",
              "<table border=\"1\" class=\"dataframe\">\n",
              "  <thead>\n",
              "    <tr style=\"text-align: right;\">\n",
              "      <th></th>\n",
              "      <th>Sensor_1</th>\n",
              "      <th>Sensor_2</th>\n",
              "      <th>Sensor_3</th>\n",
              "      <th>Sensor_4</th>\n",
              "      <th>Sensor_5</th>\n",
              "      <th>Sensor_6</th>\n",
              "      <th>Fault</th>\n",
              "      <th>s1_s3</th>\n",
              "      <th>sensor_min</th>\n",
              "      <th>s2_times_s6</th>\n",
              "      <th>sensor_mean</th>\n",
              "    </tr>\n",
              "  </thead>\n",
              "  <tbody>\n",
              "    <tr>\n",
              "      <th>count</th>\n",
              "      <td>3.000000e+03</td>\n",
              "      <td>3.000000e+03</td>\n",
              "      <td>3.000000e+03</td>\n",
              "      <td>3.000000e+03</td>\n",
              "      <td>3.000000e+03</td>\n",
              "      <td>3.000000e+03</td>\n",
              "      <td>3000.000000</td>\n",
              "      <td>3.000000e+03</td>\n",
              "      <td>3.000000e+03</td>\n",
              "      <td>3.000000e+03</td>\n",
              "      <td>3.000000e+03</td>\n",
              "    </tr>\n",
              "    <tr>\n",
              "      <th>mean</th>\n",
              "      <td>-7.105427e-17</td>\n",
              "      <td>-9.473903e-18</td>\n",
              "      <td>-5.210647e-17</td>\n",
              "      <td>1.776357e-16</td>\n",
              "      <td>8.526513e-17</td>\n",
              "      <td>-2.036889e-16</td>\n",
              "      <td>0.200000</td>\n",
              "      <td>-3.079019e-17</td>\n",
              "      <td>3.315866e-17</td>\n",
              "      <td>3.552714e-18</td>\n",
              "      <td>-6.608047e-16</td>\n",
              "    </tr>\n",
              "    <tr>\n",
              "      <th>std</th>\n",
              "      <td>1.000167e+00</td>\n",
              "      <td>1.000167e+00</td>\n",
              "      <td>1.000167e+00</td>\n",
              "      <td>1.000167e+00</td>\n",
              "      <td>1.000167e+00</td>\n",
              "      <td>1.000167e+00</td>\n",
              "      <td>0.400067</td>\n",
              "      <td>1.000167e+00</td>\n",
              "      <td>1.000167e+00</td>\n",
              "      <td>1.000167e+00</td>\n",
              "      <td>1.000167e+00</td>\n",
              "    </tr>\n",
              "    <tr>\n",
              "      <th>min</th>\n",
              "      <td>-1.769361e+00</td>\n",
              "      <td>-3.224786e+00</td>\n",
              "      <td>-3.584718e+00</td>\n",
              "      <td>-2.006496e+00</td>\n",
              "      <td>-3.279810e+00</td>\n",
              "      <td>-9.876638e-01</td>\n",
              "      <td>0.000000</td>\n",
              "      <td>-6.343181e+00</td>\n",
              "      <td>-7.349525e+00</td>\n",
              "      <td>-7.549996e+00</td>\n",
              "      <td>-2.423579e+00</td>\n",
              "    </tr>\n",
              "    <tr>\n",
              "      <th>25%</th>\n",
              "      <td>-8.252174e-01</td>\n",
              "      <td>-6.806470e-01</td>\n",
              "      <td>-5.444426e-01</td>\n",
              "      <td>-8.646661e-01</td>\n",
              "      <td>-6.654799e-01</td>\n",
              "      <td>-7.070337e-01</td>\n",
              "      <td>0.000000</td>\n",
              "      <td>-4.630652e-01</td>\n",
              "      <td>-5.518692e-01</td>\n",
              "      <td>-2.373296e-01</td>\n",
              "      <td>-8.493450e-01</td>\n",
              "    </tr>\n",
              "    <tr>\n",
              "      <th>50%</th>\n",
              "      <td>-1.393580e-01</td>\n",
              "      <td>-1.442380e-02</td>\n",
              "      <td>1.993910e-02</td>\n",
              "      <td>4.495615e-03</td>\n",
              "      <td>-1.226474e-02</td>\n",
              "      <td>-3.340568e-01</td>\n",
              "      <td>0.000000</td>\n",
              "      <td>-8.056113e-02</td>\n",
              "      <td>2.168973e-01</td>\n",
              "      <td>2.437825e-02</td>\n",
              "      <td>9.381580e-03</td>\n",
              "    </tr>\n",
              "    <tr>\n",
              "      <th>75%</th>\n",
              "      <td>7.123381e-01</td>\n",
              "      <td>6.795198e-01</td>\n",
              "      <td>6.585500e-01</td>\n",
              "      <td>8.111318e-01</td>\n",
              "      <td>7.145962e-01</td>\n",
              "      <td>3.934103e-01</td>\n",
              "      <td>0.000000</td>\n",
              "      <td>5.225151e-01</td>\n",
              "      <td>7.955533e-01</td>\n",
              "      <td>2.356538e-01</td>\n",
              "      <td>7.778590e-01</td>\n",
              "    </tr>\n",
              "    <tr>\n",
              "      <th>max</th>\n",
              "      <td>3.214095e+00</td>\n",
              "      <td>3.399389e+00</td>\n",
              "      <td>2.874571e+00</td>\n",
              "      <td>2.669080e+00</td>\n",
              "      <td>3.676157e+00</td>\n",
              "      <td>7.003245e+00</td>\n",
              "      <td>1.000000</td>\n",
              "      <td>4.646928e+00</td>\n",
              "      <td>1.531341e+00</td>\n",
              "      <td>8.985258e+00</td>\n",
              "      <td>3.030748e+00</td>\n",
              "    </tr>\n",
              "  </tbody>\n",
              "</table>\n",
              "</div>"
            ],
            "text/plain": [
              "           Sensor_1      Sensor_2      Sensor_3      Sensor_4      Sensor_5  \\\n",
              "count  3.000000e+03  3.000000e+03  3.000000e+03  3.000000e+03  3.000000e+03   \n",
              "mean  -7.105427e-17 -9.473903e-18 -5.210647e-17  1.776357e-16  8.526513e-17   \n",
              "std    1.000167e+00  1.000167e+00  1.000167e+00  1.000167e+00  1.000167e+00   \n",
              "min   -1.769361e+00 -3.224786e+00 -3.584718e+00 -2.006496e+00 -3.279810e+00   \n",
              "25%   -8.252174e-01 -6.806470e-01 -5.444426e-01 -8.646661e-01 -6.654799e-01   \n",
              "50%   -1.393580e-01 -1.442380e-02  1.993910e-02  4.495615e-03 -1.226474e-02   \n",
              "75%    7.123381e-01  6.795198e-01  6.585500e-01  8.111318e-01  7.145962e-01   \n",
              "max    3.214095e+00  3.399389e+00  2.874571e+00  2.669080e+00  3.676157e+00   \n",
              "\n",
              "           Sensor_6        Fault         s1_s3    sensor_min   s2_times_s6  \\\n",
              "count  3.000000e+03  3000.000000  3.000000e+03  3.000000e+03  3.000000e+03   \n",
              "mean  -2.036889e-16     0.200000 -3.079019e-17  3.315866e-17  3.552714e-18   \n",
              "std    1.000167e+00     0.400067  1.000167e+00  1.000167e+00  1.000167e+00   \n",
              "min   -9.876638e-01     0.000000 -6.343181e+00 -7.349525e+00 -7.549996e+00   \n",
              "25%   -7.070337e-01     0.000000 -4.630652e-01 -5.518692e-01 -2.373296e-01   \n",
              "50%   -3.340568e-01     0.000000 -8.056113e-02  2.168973e-01  2.437825e-02   \n",
              "75%    3.934103e-01     0.000000  5.225151e-01  7.955533e-01  2.356538e-01   \n",
              "max    7.003245e+00     1.000000  4.646928e+00  1.531341e+00  8.985258e+00   \n",
              "\n",
              "        sensor_mean  \n",
              "count  3.000000e+03  \n",
              "mean  -6.608047e-16  \n",
              "std    1.000167e+00  \n",
              "min   -2.423579e+00  \n",
              "25%   -8.493450e-01  \n",
              "50%    9.381580e-03  \n",
              "75%    7.778590e-01  \n",
              "max    3.030748e+00  "
            ]
          },
          "execution_count": 8,
          "metadata": {},
          "output_type": "execute_result"
        }
      ],
      "source": [
        "df.describe()"
      ]
    },
    {
      "cell_type": "code",
      "execution_count": null,
      "id": "7635b77d-8077-4727-818a-ed117e97074c",
      "metadata": {
        "id": "7635b77d-8077-4727-818a-ed117e97074c"
      },
      "outputs": [],
      "source": [
        "from sklearn.model_selection import train_test_split\n",
        "from sklearn.metrics import accuracy_score, f1_score\n",
        "import tensorflow as tf\n",
        "import optuna"
      ]
    },
    {
      "cell_type": "markdown",
      "source": [
        "# HYPTERPARAMETER TUNING THE NEURAL NETWORK USING OPTUNA"
      ],
      "metadata": {
        "id": "j5xkI8xS05Ee"
      },
      "id": "j5xkI8xS05Ee"
    },
    {
      "cell_type": "code",
      "execution_count": null,
      "id": "981d6a1e-79b2-4af4-a4b3-13ce1de17a07",
      "metadata": {
        "id": "981d6a1e-79b2-4af4-a4b3-13ce1de17a07",
        "outputId": "6b35ceb3-0319-49d8-fa0f-4f340efa64f0"
      },
      "outputs": [
        {
          "data": {
            "text/html": [
              "<div>\n",
              "<style scoped>\n",
              "    .dataframe tbody tr th:only-of-type {\n",
              "        vertical-align: middle;\n",
              "    }\n",
              "\n",
              "    .dataframe tbody tr th {\n",
              "        vertical-align: top;\n",
              "    }\n",
              "\n",
              "    .dataframe thead th {\n",
              "        text-align: right;\n",
              "    }\n",
              "</style>\n",
              "<table border=\"1\" class=\"dataframe\">\n",
              "  <thead>\n",
              "    <tr style=\"text-align: right;\">\n",
              "      <th></th>\n",
              "      <th>Sensor_1</th>\n",
              "      <th>Sensor_2</th>\n",
              "      <th>Sensor_3</th>\n",
              "      <th>Sensor_4</th>\n",
              "      <th>Sensor_5</th>\n",
              "      <th>Sensor_6</th>\n",
              "      <th>s1_s3</th>\n",
              "      <th>sensor_min</th>\n",
              "      <th>s2_times_s6</th>\n",
              "      <th>sensor_mean</th>\n",
              "    </tr>\n",
              "  </thead>\n",
              "  <tbody>\n",
              "    <tr>\n",
              "      <th>0</th>\n",
              "      <td>-1.017082</td>\n",
              "      <td>0.018443</td>\n",
              "      <td>0.456857</td>\n",
              "      <td>1.191083</td>\n",
              "      <td>-0.267326</td>\n",
              "      <td>0.376928</td>\n",
              "      <td>0.280010</td>\n",
              "      <td>0.668765</td>\n",
              "      <td>0.018703</td>\n",
              "      <td>1.154418</td>\n",
              "    </tr>\n",
              "    <tr>\n",
              "      <th>1</th>\n",
              "      <td>1.298687</td>\n",
              "      <td>-0.606217</td>\n",
              "      <td>0.558633</td>\n",
              "      <td>-1.625992</td>\n",
              "      <td>-1.338021</td>\n",
              "      <td>0.923189</td>\n",
              "      <td>-0.090777</td>\n",
              "      <td>-0.091636</td>\n",
              "      <td>-0.792877</td>\n",
              "      <td>-1.767242</td>\n",
              "    </tr>\n",
              "    <tr>\n",
              "      <th>2</th>\n",
              "      <td>0.353991</td>\n",
              "      <td>-0.336935</td>\n",
              "      <td>0.624945</td>\n",
              "      <td>1.333132</td>\n",
              "      <td>0.091300</td>\n",
              "      <td>-0.934733</td>\n",
              "      <td>0.565072</td>\n",
              "      <td>0.236162</td>\n",
              "      <td>0.021232</td>\n",
              "      <td>1.288630</td>\n",
              "    </tr>\n",
              "    <tr>\n",
              "      <th>3</th>\n",
              "      <td>-0.884136</td>\n",
              "      <td>0.341557</td>\n",
              "      <td>-0.346476</td>\n",
              "      <td>1.398110</td>\n",
              "      <td>0.091300</td>\n",
              "      <td>0.404644</td>\n",
              "      <td>-0.308805</td>\n",
              "      <td>0.763418</td>\n",
              "      <td>0.321885</td>\n",
              "      <td>1.404372</td>\n",
              "    </tr>\n",
              "    <tr>\n",
              "      <th>4</th>\n",
              "      <td>-0.505072</td>\n",
              "      <td>0.850529</td>\n",
              "      <td>1.637103</td>\n",
              "      <td>1.770069</td>\n",
              "      <td>0.091300</td>\n",
              "      <td>-0.881757</td>\n",
              "      <td>1.475596</td>\n",
              "      <td>0.891536</td>\n",
              "      <td>0.093221</td>\n",
              "      <td>1.785582</td>\n",
              "    </tr>\n",
              "    <tr>\n",
              "      <th>...</th>\n",
              "      <td>...</td>\n",
              "      <td>...</td>\n",
              "      <td>...</td>\n",
              "      <td>...</td>\n",
              "      <td>...</td>\n",
              "      <td>...</td>\n",
              "      <td>...</td>\n",
              "      <td>...</td>\n",
              "      <td>...</td>\n",
              "      <td>...</td>\n",
              "    </tr>\n",
              "    <tr>\n",
              "      <th>2995</th>\n",
              "      <td>0.114189</td>\n",
              "      <td>-0.369769</td>\n",
              "      <td>0.508190</td>\n",
              "      <td>0.104156</td>\n",
              "      <td>-0.412236</td>\n",
              "      <td>-0.168678</td>\n",
              "      <td>0.260958</td>\n",
              "      <td>0.196193</td>\n",
              "      <td>-0.189470</td>\n",
              "      <td>0.030524</td>\n",
              "    </tr>\n",
              "    <tr>\n",
              "      <th>2996</th>\n",
              "      <td>-0.516847</td>\n",
              "      <td>-1.350374</td>\n",
              "      <td>0.639908</td>\n",
              "      <td>0.266606</td>\n",
              "      <td>1.227431</td>\n",
              "      <td>-0.682531</td>\n",
              "      <td>1.092247</td>\n",
              "      <td>-0.997501</td>\n",
              "      <td>-0.251117</td>\n",
              "      <td>0.404066</td>\n",
              "    </tr>\n",
              "    <tr>\n",
              "      <th>2997</th>\n",
              "      <td>-0.946461</td>\n",
              "      <td>-0.207762</td>\n",
              "      <td>0.823182</td>\n",
              "      <td>1.086664</td>\n",
              "      <td>0.909759</td>\n",
              "      <td>-0.729109</td>\n",
              "      <td>1.178155</td>\n",
              "      <td>0.393404</td>\n",
              "      <td>-0.007877</td>\n",
              "      <td>1.195151</td>\n",
              "    </tr>\n",
              "    <tr>\n",
              "      <th>2998</th>\n",
              "      <td>1.070198</td>\n",
              "      <td>1.356952</td>\n",
              "      <td>1.085661</td>\n",
              "      <td>-1.395049</td>\n",
              "      <td>-0.285767</td>\n",
              "      <td>-0.514218</td>\n",
              "      <td>0.736562</td>\n",
              "      <td>1.252907</td>\n",
              "      <td>0.457043</td>\n",
              "      <td>-1.360503</td>\n",
              "    </tr>\n",
              "    <tr>\n",
              "      <th>2999</th>\n",
              "      <td>0.068721</td>\n",
              "      <td>0.090206</td>\n",
              "      <td>-0.110293</td>\n",
              "      <td>0.485182</td>\n",
              "      <td>-2.111621</td>\n",
              "      <td>-0.666378</td>\n",
              "      <td>-0.379855</td>\n",
              "      <td>-0.039217</td>\n",
              "      <td>0.046501</td>\n",
              "      <td>0.095356</td>\n",
              "    </tr>\n",
              "  </tbody>\n",
              "</table>\n",
              "<p>3000 rows × 10 columns</p>\n",
              "</div>"
            ],
            "text/plain": [
              "      Sensor_1  Sensor_2  Sensor_3  Sensor_4  Sensor_5  Sensor_6     s1_s3  \\\n",
              "0    -1.017082  0.018443  0.456857  1.191083 -0.267326  0.376928  0.280010   \n",
              "1     1.298687 -0.606217  0.558633 -1.625992 -1.338021  0.923189 -0.090777   \n",
              "2     0.353991 -0.336935  0.624945  1.333132  0.091300 -0.934733  0.565072   \n",
              "3    -0.884136  0.341557 -0.346476  1.398110  0.091300  0.404644 -0.308805   \n",
              "4    -0.505072  0.850529  1.637103  1.770069  0.091300 -0.881757  1.475596   \n",
              "...        ...       ...       ...       ...       ...       ...       ...   \n",
              "2995  0.114189 -0.369769  0.508190  0.104156 -0.412236 -0.168678  0.260958   \n",
              "2996 -0.516847 -1.350374  0.639908  0.266606  1.227431 -0.682531  1.092247   \n",
              "2997 -0.946461 -0.207762  0.823182  1.086664  0.909759 -0.729109  1.178155   \n",
              "2998  1.070198  1.356952  1.085661 -1.395049 -0.285767 -0.514218  0.736562   \n",
              "2999  0.068721  0.090206 -0.110293  0.485182 -2.111621 -0.666378 -0.379855   \n",
              "\n",
              "      sensor_min  s2_times_s6  sensor_mean  \n",
              "0       0.668765     0.018703     1.154418  \n",
              "1      -0.091636    -0.792877    -1.767242  \n",
              "2       0.236162     0.021232     1.288630  \n",
              "3       0.763418     0.321885     1.404372  \n",
              "4       0.891536     0.093221     1.785582  \n",
              "...          ...          ...          ...  \n",
              "2995    0.196193    -0.189470     0.030524  \n",
              "2996   -0.997501    -0.251117     0.404066  \n",
              "2997    0.393404    -0.007877     1.195151  \n",
              "2998    1.252907     0.457043    -1.360503  \n",
              "2999   -0.039217     0.046501     0.095356  \n",
              "\n",
              "[3000 rows x 10 columns]"
            ]
          },
          "execution_count": 10,
          "metadata": {},
          "output_type": "execute_result"
        }
      ],
      "source": [
        "#x_train, x_test, y_train, y_test = train_test_split(df.drop(\"Fault\", axis = 1), df[\"Fault\"], test_size=0.2, random_state=42, stratify=df[\"Fault\"])\n",
        "\n",
        "x_train = df.drop(\"Fault\", axis = 1)\n",
        "y_train = df[\"Fault\"]\n",
        "\n",
        "x_test = df2.drop(\"ID\", axis =1 )\n",
        "x_train"
      ]
    },
    {
      "cell_type": "markdown",
      "source": [
        "for this challenge, i've put fking neural network in optuna to find out best params, layers and all. lol this looks so stupid but okay"
      ],
      "metadata": {
        "id": "CT9Kbpis0cCr"
      },
      "id": "CT9Kbpis0cCr"
    },
    {
      "cell_type": "code",
      "execution_count": null,
      "id": "bbd232ba-3c0b-4a68-b731-bbf74f07ec29",
      "metadata": {
        "id": "bbd232ba-3c0b-4a68-b731-bbf74f07ec29"
      },
      "outputs": [],
      "source": [
        "from sklearn.model_selection import StratifiedKFold\n",
        "from sklearn.utils import class_weight\n",
        "import numpy as np\n",
        "def objective(trial):\n",
        "    skf = StratifiedKFold(n_splits=5, shuffle=True, random_state=42)\n",
        "    f1_scores = []\n",
        "\n",
        "    for train_idx, val_idx in skf.split(x_train, y_train):\n",
        "\n",
        "        x_tr, x_val = x_train.iloc[train_idx], x_train.iloc[val_idx]\n",
        "        y_tr, y_val = y_train.iloc[train_idx], y_train.iloc[val_idx]\n",
        "\n",
        "        model = tf.keras.Sequential()\n",
        "        n_layers = trial.suggest_int(\"n_layers\", 5, 12)\n",
        "        for i in range(n_layers):\n",
        "            num_units = trial.suggest_int(f\"n_units_l{i}\", 64, 128)\n",
        "            dropout_rate = trial.suggest_float(f\"dropout_l{i}\", 0.2, 0.6)\n",
        "            model.add(tf.keras.layers.Dense(num_units,activation = \"relu\", kernel_regularizer=tf.keras.regularizers.l2(0.001)))\n",
        "            model.add(tf.keras.layers.BatchNormalization())\n",
        "            model.add(tf.keras.layers.Dropout(dropout_rate))\n",
        "\n",
        "        model.add(tf.keras.layers.Dense(1, activation='sigmoid'))\n",
        "        lr = trial.suggest_float(\"lr\", 1e-5, 1e-2, log=True)\n",
        "        batch_size = trial.suggest_categorical(\"batch_size\", [32, 64, 128])\n",
        "        epochs = trial.suggest_categorical(\"epochs\", [100, 150])\n",
        "\n",
        "\n",
        "\n",
        "\n",
        "        model.compile(\n",
        "            optimizer=tf.keras.optimizers.Adam(learning_rate=lr),\n",
        "            loss='binary_focal_crossentropy',\n",
        "            metrics=['accuracy', 'precision', 'recall']\n",
        "        )\n",
        "\n",
        "\n",
        "        weights = class_weight.compute_class_weight(\n",
        "        class_weight='balanced',\n",
        "        classes=np.unique(y_train),\n",
        "        y=y_train\n",
        "        )\n",
        "        class_weights = dict(zip(np.unique(y_train), weights))\n",
        "\n",
        "\n",
        "\n",
        "        model.fit(\n",
        "            x_tr, y_tr,\n",
        "            validation_split=0.2,\n",
        "            batch_size=batch_size,\n",
        "            epochs=epochs,\n",
        "            verbose=0,\n",
        "            callbacks=[tf.keras.callbacks.EarlyStopping(monitor='val_loss', patience=5, restore_best_weights=True)],\n",
        "            class_weight = class_weights\n",
        "\n",
        "        )\n",
        "        val_preds = (model.predict(x_val) > 0.5).astype(int)\n",
        "        score = f1_score(y_val, val_preds)\n",
        "        f1_scores.append(score)\n",
        "\n",
        "\n",
        "\n",
        "    return np.mean(f1_scores)\n",
        "\n",
        ""
      ]
    },
    {
      "cell_type": "code",
      "execution_count": null,
      "id": "004d6684-5caf-4dd3-b118-b9196c0e33d3",
      "metadata": {
        "id": "004d6684-5caf-4dd3-b118-b9196c0e33d3",
        "outputId": "3eead3b9-87c6-4ae4-c966-1c20510fdff9"
      },
      "outputs": [
        {
          "name": "stderr",
          "output_type": "stream",
          "text": [
            "[I 2025-06-28 01:08:58,504] A new study created in memory with name: no-name-87ce73f0-7934-4120-9230-2ab3d810b606\n"
          ]
        }
      ],
      "source": [
        "study = optuna.create_study(direction=\"maximize\")\n"
      ]
    },
    {
      "cell_type": "code",
      "execution_count": null,
      "id": "a255ee7e-7551-4f9d-a61f-5ec913007a06",
      "metadata": {
        "id": "a255ee7e-7551-4f9d-a61f-5ec913007a06",
        "outputId": "3b8de6a1-5410-4838-b3d6-b47fbeb6722d"
      },
      "outputs": [
        {
          "name": "stdout",
          "output_type": "stream",
          "text": [
            "\u001b[1m19/19\u001b[0m \u001b[32m━━━━━━━━━━━━━━━━━━━━\u001b[0m\u001b[37m\u001b[0m \u001b[1m2s\u001b[0m 47ms/step\n",
            "\u001b[1m19/19\u001b[0m \u001b[32m━━━━━━━━━━━━━━━━━━━━\u001b[0m\u001b[37m\u001b[0m \u001b[1m1s\u001b[0m 37ms/step\n",
            "\u001b[1m19/19\u001b[0m \u001b[32m━━━━━━━━━━━━━━━━━━━━\u001b[0m\u001b[37m\u001b[0m \u001b[1m1s\u001b[0m 24ms/step\n",
            "\u001b[1m19/19\u001b[0m \u001b[32m━━━━━━━━━━━━━━━━━━━━\u001b[0m\u001b[37m\u001b[0m \u001b[1m1s\u001b[0m 28ms/step\n",
            "\u001b[1m19/19\u001b[0m \u001b[32m━━━━━━━━━━━━━━━━━━━━\u001b[0m\u001b[37m\u001b[0m \u001b[1m1s\u001b[0m 25ms/step\n"
          ]
        },
        {
          "name": "stderr",
          "output_type": "stream",
          "text": [
            "[I 2025-06-28 16:36:14,810] Trial 40 finished with value: 0.6174746380528371 and parameters: {'n_layers': 6, 'n_units_l0': 123, 'dropout_l0': 0.37366105696084007, 'n_units_l1': 108, 'dropout_l1': 0.42891791188259404, 'n_units_l2': 77, 'dropout_l2': 0.27228009843218565, 'n_units_l3': 86, 'dropout_l3': 0.4215190794462201, 'n_units_l4': 101, 'dropout_l4': 0.3764504628140225, 'n_units_l5': 86, 'dropout_l5': 0.36139747613760986, 'lr': 0.0004156722056979646, 'batch_size': 32, 'epochs': 150}. Best is trial 17 with value: 0.7293479457541024.\n"
          ]
        },
        {
          "name": "stdout",
          "output_type": "stream",
          "text": [
            "\u001b[1m19/19\u001b[0m \u001b[32m━━━━━━━━━━━━━━━━━━━━\u001b[0m\u001b[37m\u001b[0m \u001b[1m1s\u001b[0m 24ms/step\n",
            "\u001b[1m19/19\u001b[0m \u001b[32m━━━━━━━━━━━━━━━━━━━━\u001b[0m\u001b[37m\u001b[0m \u001b[1m1s\u001b[0m 16ms/step\n",
            "\u001b[1m19/19\u001b[0m \u001b[32m━━━━━━━━━━━━━━━━━━━━\u001b[0m\u001b[37m\u001b[0m \u001b[1m1s\u001b[0m 21ms/step\n",
            "\u001b[1m19/19\u001b[0m \u001b[32m━━━━━━━━━━━━━━━━━━━━\u001b[0m\u001b[37m\u001b[0m \u001b[1m1s\u001b[0m 22ms/step\n",
            "\u001b[1m19/19\u001b[0m \u001b[32m━━━━━━━━━━━━━━━━━━━━\u001b[0m\u001b[37m\u001b[0m \u001b[1m1s\u001b[0m 18ms/step\n"
          ]
        },
        {
          "name": "stderr",
          "output_type": "stream",
          "text": [
            "[I 2025-06-28 16:39:34,260] Trial 41 finished with value: 0.7206724344013118 and parameters: {'n_layers': 5, 'n_units_l0': 105, 'dropout_l0': 0.409806071617192, 'n_units_l1': 75, 'dropout_l1': 0.3277688411173781, 'n_units_l2': 91, 'dropout_l2': 0.3736100494755079, 'n_units_l3': 117, 'dropout_l3': 0.45856941560506437, 'n_units_l4': 82, 'dropout_l4': 0.46904925487362925, 'lr': 0.002849954216193138, 'batch_size': 128, 'epochs': 150}. Best is trial 17 with value: 0.7293479457541024.\n"
          ]
        },
        {
          "name": "stdout",
          "output_type": "stream",
          "text": [
            "\u001b[1m19/19\u001b[0m \u001b[32m━━━━━━━━━━━━━━━━━━━━\u001b[0m\u001b[37m\u001b[0m \u001b[1m1s\u001b[0m 22ms/step\n",
            "\u001b[1m19/19\u001b[0m \u001b[32m━━━━━━━━━━━━━━━━━━━━\u001b[0m\u001b[37m\u001b[0m \u001b[1m1s\u001b[0m 18ms/step\n",
            "\u001b[1m19/19\u001b[0m \u001b[32m━━━━━━━━━━━━━━━━━━━━\u001b[0m\u001b[37m\u001b[0m \u001b[1m1s\u001b[0m 17ms/step\n",
            "\u001b[1m19/19\u001b[0m \u001b[32m━━━━━━━━━━━━━━━━━━━━\u001b[0m\u001b[37m\u001b[0m \u001b[1m1s\u001b[0m 14ms/step\n",
            "\u001b[1m19/19\u001b[0m \u001b[32m━━━━━━━━━━━━━━━━━━━━\u001b[0m\u001b[37m\u001b[0m \u001b[1m1s\u001b[0m 14ms/step\n"
          ]
        },
        {
          "name": "stderr",
          "output_type": "stream",
          "text": [
            "[I 2025-06-28 16:42:36,564] Trial 42 finished with value: 0.7234023147240058 and parameters: {'n_layers': 5, 'n_units_l0': 106, 'dropout_l0': 0.4489300854233646, 'n_units_l1': 64, 'dropout_l1': 0.35513000141415163, 'n_units_l2': 88, 'dropout_l2': 0.365172194991778, 'n_units_l3': 116, 'dropout_l3': 0.493919179242235, 'n_units_l4': 89, 'dropout_l4': 0.48298000963129517, 'lr': 0.002785538375710952, 'batch_size': 128, 'epochs': 150}. Best is trial 17 with value: 0.7293479457541024.\n"
          ]
        },
        {
          "name": "stdout",
          "output_type": "stream",
          "text": [
            "\u001b[1m19/19\u001b[0m \u001b[32m━━━━━━━━━━━━━━━━━━━━\u001b[0m\u001b[37m\u001b[0m \u001b[1m1s\u001b[0m 22ms/step\n",
            "\u001b[1m19/19\u001b[0m \u001b[32m━━━━━━━━━━━━━━━━━━━━\u001b[0m\u001b[37m\u001b[0m \u001b[1m1s\u001b[0m 20ms/step\n",
            "\u001b[1m19/19\u001b[0m \u001b[32m━━━━━━━━━━━━━━━━━━━━\u001b[0m\u001b[37m\u001b[0m \u001b[1m1s\u001b[0m 17ms/step\n",
            "\u001b[1m19/19\u001b[0m \u001b[32m━━━━━━━━━━━━━━━━━━━━\u001b[0m\u001b[37m\u001b[0m \u001b[1m0s\u001b[0m 15ms/step\n",
            "\u001b[1m19/19\u001b[0m \u001b[32m━━━━━━━━━━━━━━━━━━━━\u001b[0m\u001b[37m\u001b[0m \u001b[1m1s\u001b[0m 17ms/step\n"
          ]
        },
        {
          "name": "stderr",
          "output_type": "stream",
          "text": [
            "[I 2025-06-28 16:46:52,990] Trial 43 finished with value: 0.7277408766171725 and parameters: {'n_layers': 6, 'n_units_l0': 116, 'dropout_l0': 0.47903625794764826, 'n_units_l1': 69, 'dropout_l1': 0.40092027248758366, 'n_units_l2': 93, 'dropout_l2': 0.3121136275479126, 'n_units_l3': 123, 'dropout_l3': 0.5520223779387703, 'n_units_l4': 84, 'dropout_l4': 0.33025462391146604, 'n_units_l5': 71, 'dropout_l5': 0.4250252308068545, 'lr': 0.0014917066881307258, 'batch_size': 128, 'epochs': 150}. Best is trial 17 with value: 0.7293479457541024.\n"
          ]
        }
      ],
      "source": [
        "study.optimize(objective, n_trials=50, timeout = 4000)"
      ]
    },
    {
      "cell_type": "markdown",
      "source": [
        "NOW TRAIN THE MODEL"
      ],
      "metadata": {
        "id": "GEBHWm1e1HVH"
      },
      "id": "GEBHWm1e1HVH"
    },
    {
      "cell_type": "code",
      "execution_count": null,
      "id": "39f15ae5-2613-45ed-8da3-676d9b20b3fc",
      "metadata": {
        "id": "39f15ae5-2613-45ed-8da3-676d9b20b3fc",
        "outputId": "d1431d56-7860-4551-8998-fd93dcbfbe15"
      },
      "outputs": [
        {
          "ename": "NameError",
          "evalue": "name 'study' is not defined",
          "output_type": "error",
          "traceback": [
            "\u001b[31m---------------------------------------------------------------------------\u001b[39m",
            "\u001b[31mNameError\u001b[39m                                 Traceback (most recent call last)",
            "\u001b[36mCell\u001b[39m\u001b[36m \u001b[39m\u001b[32mIn[1]\u001b[39m\u001b[32m, line 1\u001b[39m\n\u001b[32m----> \u001b[39m\u001b[32m1\u001b[39m best_params = \u001b[43mstudy\u001b[49m.best_trial.params\n\u001b[32m      5\u001b[39m \u001b[38;5;66;03m# Example (use your actual best_params):\u001b[39;00m\n\u001b[32m      6\u001b[39m model = tf.keras.Sequential()\n",
            "\u001b[31mNameError\u001b[39m: name 'study' is not defined"
          ]
        }
      ],
      "source": [
        "best_params = study.best_trial.params\n",
        "\n",
        "\n",
        "\n",
        "\n",
        "model = tf.keras.Sequential()\n",
        "for i in range(best_params[\"n_layers\"]):\n",
        "    model.add(tf.keras.layers.Dense(best_params[f\"n_units_l{i}\"], activation=tf.keras.activations.swish), )\n",
        "    model.add(tf.keras.layers.Dropout(best_params[f\"dropout_l{i}\"]))\n",
        "model.add(tf.keras.layers.Dense(1, activation='sigmoid'))\n",
        "\n",
        "model.compile(\n",
        "    optimizer=tf.keras.optimizers.Adam(learning_rate=best_params[\"lr\"]),\n",
        "    loss='binary_crossentropy',\n",
        "    metrics=['accuracy']\n",
        ")\n",
        "\n",
        "\n",
        "model.fit(\n",
        "    x_train, y_train,\n",
        "    batch_size=best_params[\"batch_size\"],\n",
        "    epochs=best_params[\"epochs\"],\n",
        "    validation_split=0.2,\n",
        "\n",
        ")"
      ]
    },
    {
      "cell_type": "code",
      "execution_count": null,
      "id": "0d28bc0a-66d1-4427-80ff-b98c276955f8",
      "metadata": {
        "id": "0d28bc0a-66d1-4427-80ff-b98c276955f8",
        "outputId": "f53c79c7-50f1-46e3-9727-3100b33af08f"
      },
      "outputs": [
        {
          "name": "stdout",
          "output_type": "stream",
          "text": [
            "\u001b[1m94/94\u001b[0m \u001b[32m━━━━━━━━━━━━━━━━━━━━\u001b[0m\u001b[37m\u001b[0m \u001b[1m1s\u001b[0m 7ms/step\n"
          ]
        }
      ],
      "source": [
        "y_pred = model.predict(x_train)\n"
      ]
    },
    {
      "cell_type": "code",
      "execution_count": null,
      "id": "8470dfab-e89e-490c-9855-1c11d5f1a850",
      "metadata": {
        "id": "8470dfab-e89e-490c-9855-1c11d5f1a850"
      },
      "outputs": [],
      "source": []
    },
    {
      "cell_type": "code",
      "execution_count": null,
      "id": "8f9f25fb-215b-45fe-bafe-11636d0dc851",
      "metadata": {
        "id": "8f9f25fb-215b-45fe-bafe-11636d0dc851"
      },
      "outputs": [],
      "source": [
        "\n",
        "y_pred_binary = (y_pred > 0.5).astype(int)\n"
      ]
    },
    {
      "cell_type": "code",
      "execution_count": null,
      "id": "92b9b42e-1021-4ebf-b8cd-a4ce142de680",
      "metadata": {
        "id": "92b9b42e-1021-4ebf-b8cd-a4ce142de680",
        "outputId": "6b7434e4-b2e5-435b-f7f4-618718a1155e"
      },
      "outputs": [
        {
          "data": {
            "text/plain": [
              "0.7820121951219512"
            ]
          },
          "execution_count": 27,
          "metadata": {},
          "output_type": "execute_result"
        }
      ],
      "source": [
        "f1_score(y_pred_binary, y_train)"
      ]
    },
    {
      "cell_type": "code",
      "execution_count": null,
      "id": "e3206098-6625-4412-8ac2-82472b7b08f2",
      "metadata": {
        "id": "e3206098-6625-4412-8ac2-82472b7b08f2"
      },
      "outputs": [],
      "source": [
        "submission_df = pd.DataFrame({\n",
        "    \"ID\": df2[\"ID\"],\n",
        "    \"Predicted_Label\": y_pred_binary.flatten()\n",
        "})\n"
      ]
    },
    {
      "cell_type": "code",
      "execution_count": null,
      "id": "e55dddc6-a3e1-4a20-a1c7-3007d40b1fe2",
      "metadata": {
        "id": "e55dddc6-a3e1-4a20-a1c7-3007d40b1fe2"
      },
      "outputs": [],
      "source": [
        "submission_df.to_csv(\"submission5.csv\", index=False)"
      ]
    },
    {
      "cell_type": "code",
      "execution_count": null,
      "id": "05c08a72-7688-4dfe-ad8e-58dbbdd92812",
      "metadata": {
        "id": "05c08a72-7688-4dfe-ad8e-58dbbdd92812"
      },
      "outputs": [],
      "source": []
    }
  ],
  "metadata": {
    "kernelspec": {
      "display_name": "Python 3 (ipykernel)",
      "language": "python",
      "name": "python3"
    },
    "language_info": {
      "codemirror_mode": {
        "name": "ipython",
        "version": 3
      },
      "file_extension": ".py",
      "mimetype": "text/x-python",
      "name": "python",
      "nbconvert_exporter": "python",
      "pygments_lexer": "ipython3",
      "version": "3.12.0"
    },
    "colab": {
      "provenance": []
    }
  },
  "nbformat": 4,
  "nbformat_minor": 5
}